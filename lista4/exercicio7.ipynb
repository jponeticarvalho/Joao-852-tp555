{
 "cells": [
  {
   "cell_type": "code",
   "execution_count": 1,
   "metadata": {},
   "outputs": [],
   "source": [
    "# Import all necessary libraries.\n",
    "import pandas as pd\n",
    "import numpy as np\n",
    "from sklearn.naive_bayes import BernoulliNB\n",
    "from sklearn.naive_bayes import MultinomialNB\n",
    "from sklearn.feature_extraction.text import CountVectorizer\n",
    "from sklearn.model_selection import train_test_split\n",
    "from sklearn import metrics\n",
    "from sklearn.metrics import confusion_matrix\n",
    "from sklearn.metrics import accuracy_score, roc_curve, auc\n",
    "import seaborn as sns\n",
    "import matplotlib.pyplot as plt"
   ]
  },
  {
   "cell_type": "code",
   "execution_count": 2,
   "metadata": {},
   "outputs": [],
   "source": [
    "x_train = np.array(['Chinese Beijing Chinese',\n",
    "                   'Chinese Chinese Shanghai',\n",
    "                   'Chinese Macao',\n",
    "                   'Tokyo Japan Chinese'])\n",
    "\n",
    "y_train = np.array(['china','china','china','not china'])\n",
    "\n",
    "x_test = np.array(['Chinese Chinese Chinese Tokyo Japan'])"
   ]
  },
  {
   "cell_type": "code",
   "execution_count": 6,
   "metadata": {},
   "outputs": [
    {
     "output_type": "stream",
     "name": "stdout",
     "text": "['beijing', 'chinese', 'japan', 'macao', 'shanghai', 'tokyo']\n\n[[1 1 0 0 0 0]\n [0 1 0 0 1 0]\n [0 1 0 1 0 0]\n [0 1 1 0 0 1]]\n\n[[0 1 1 0 0 1]]\n\n['not china']\n\n[[0.19106679 0.80893321]]\n"
    }
   ],
   "source": [
    "#bernoulli\n",
    "\n",
    "vect = CountVectorizer(binary=True)\n",
    "\n",
    "x_train_dtm = vect.fit_transform(x_train)\n",
    "\n",
    "print(vect.get_feature_names())\n",
    "print()\n",
    "print(x_train_dtm.toarray())\n",
    "print()\n",
    "\n",
    "x_test_dtm = vect.transform(x_test)\n",
    "\n",
    "print(x_test_dtm.toarray())\n",
    "print()\n",
    "\n",
    "model = BernoulliNB(binarize=None)\n",
    "\n",
    "model.fit(x_train_dtm, y_train)\n",
    "\n",
    "y_pred_class = model.predict(x_test_dtm)\n",
    "\n",
    "print(y_pred_class)\n",
    "print()\n",
    "\n",
    "print(model.predict_proba(x_test_dtm))"
   ]
  },
  {
   "cell_type": "code",
   "execution_count": 7,
   "metadata": {},
   "outputs": [
    {
     "output_type": "stream",
     "name": "stdout",
     "text": "['beijing', 'chinese', 'japan', 'macao', 'shanghai', 'tokyo']\n\n[[1 2 0 0 0 0]\n [0 2 0 0 1 0]\n [0 1 0 1 0 0]\n [0 1 1 0 0 1]]\n\n[[0 3 1 0 0 1]]\n\n['china']\n\n[[0.68975861 0.31024139]]\n"
    }
   ],
   "source": [
    "#multinomial\n",
    "x_train = np.array(['Chinese Beijing Chinese',\n",
    "                   'Chinese Chinese Shanghai',\n",
    "                   'Chinese Macao',\n",
    "                   'Tokyo Japan Chinese'])\n",
    "\n",
    "y_train = np.array(['china','china','china','not china'])\n",
    "\n",
    "x_test = np.array(['Chinese Chinese Chinese Tokyo Japan'])\n",
    "\n",
    "vect = CountVectorizer()\n",
    "\n",
    "x_train_dtm = vect.fit_transform(x_train)\n",
    "\n",
    "print(vect.get_feature_names())\n",
    "print()\n",
    "print(x_train_dtm.toarray())\n",
    "print()\n",
    "\n",
    "x_test_dtm = vect.transform(x_test)\n",
    "\n",
    "print(x_test_dtm.toarray())\n",
    "print()\n",
    "\n",
    "model = MultinomialNB()\n",
    "\n",
    "model.fit(x_train_dtm, y_train)\n",
    "\n",
    "y_pred_class = model.predict(x_test_dtm)\n",
    "\n",
    "print(y_pred_class)\n",
    "print()\n",
    "\n",
    "print(model.predict_proba(x_test_dtm))"
   ]
  },
  {
   "cell_type": "markdown",
   "metadata": {},
   "source": [
    "O motivo da classificação de bernoulli é porque o vetor utilizado para testes é exatamente igual ao quarto vetor para treinamento, assim classificando-o como 'not-china' \n",
    "\n",
    "Já o motivo para a classificação do multinomial é porque aparece muitas vezes o indicador 'chinese'."
   ]
  }
 ],
 "metadata": {
  "kernelspec": {
   "display_name": "Python 3",
   "language": "python",
   "name": "python3"
  },
  "language_info": {
   "codemirror_mode": {
    "name": "ipython",
    "version": 3
   },
   "file_extension": ".py",
   "mimetype": "text/x-python",
   "name": "python",
   "nbconvert_exporter": "python",
   "pygments_lexer": "ipython3",
   "version": "3.7.6-final"
  }
 },
 "nbformat": 4,
 "nbformat_minor": 4
}