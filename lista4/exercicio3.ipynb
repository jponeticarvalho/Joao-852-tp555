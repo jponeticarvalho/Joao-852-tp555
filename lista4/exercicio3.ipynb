{
 "cells": [
  {
   "cell_type": "code",
   "execution_count": 15,
   "metadata": {},
   "outputs": [],
   "source": [
    "# Import all necessary libraries.\n",
    "import numpy as np\n",
    "import cmath\n",
    "import scipy as sp\n",
    "from scipy.special import erfc\n",
    "from sklearn.naive_bayes import GaussianNB\n",
    "import matplotlib.pyplot as plt\n",
    "\n",
    "X = np.array(   [[1.83, 81.65,  30.48],\n",
    "                 [1.80, 86.18,  27.94],\n",
    "                 [1.70, 77.11,  30.48],\n",
    "                 [1.80, 74.84,  25.40],\n",
    "                 [1.52, 45.36,  15.24],\n",
    "                 [1.68, 68.04,  20.32],\n",
    "                 [1.65, 58.97,  17.78],\n",
    "                 [1.75, 68.04,  22.86]])\n",
    "\n",
    "y = np.array(['masculino','masculino','masculino','masculino','feminino','feminino','feminino','feminino'])"
   ]
  },
  {
   "cell_type": "code",
   "execution_count": 16,
   "metadata": {},
   "outputs": [
    {
     "output_type": "stream",
     "name": "stdout",
     "text": "Resposta: sexo feminino\n"
    }
   ],
   "source": [
    "gauNaiveB = GaussianNB()\n",
    "\n",
    "gauNaiveB.fit(X, y)\n",
    "\n",
    "alturaTeste = 1.83\n",
    "pesoTeste = 58.97\n",
    "calcadoTeste = 20.32\n",
    "\n",
    "# Predict.\n",
    "print('Resposta: sexo %s' % gauNaiveB.predict([[alturaTeste,pesoTeste,calcadoTeste]])[0])"
   ]
  },
  {
   "cell_type": "code",
   "execution_count": 17,
   "metadata": {},
   "outputs": [
    {
     "output_type": "stream",
     "name": "stdout",
     "text": "[[9.99999851e-01 1.48534481e-07]]\n"
    }
   ],
   "source": [
    "print(gauNaiveB.predict_proba([[1.83,58.97,20.32]]) )"
   ]
  },
  {
   "cell_type": "code",
   "execution_count": 18,
   "metadata": {},
   "outputs": [
    {
     "output_type": "stream",
     "name": "stdout",
     "text": "4.9734204879857895e-08\n0.3348187663718195\n"
    }
   ],
   "source": [
    "P_fem = 1.0/2.0\n",
    "PMas = 1.0/2.0\n",
    "\n",
    "alturaMas = (X[0:3+1,0].mean())\n",
    "alturaMasStandart = (X[0:3+1,0].std())\n",
    "P_alturaMas = sp.stats.norm.pdf(1.83, alturaMas, alturaMasStandart)\n",
    "P_alturaMas_X_PMas = P_alturaMas*PMas\n",
    "\n",
    "pesoMas = (X[0:3+1,1].mean())\n",
    "pesoMasStandart = (X[0:3+1,1].std())\n",
    "P_pesoMas = sp.stats.norm.pdf(58.97, pesoMas, pesoMasStandart)\n",
    "P_pesoMas_X_PMas = P_pesoMas*PMas\n",
    "\n",
    "tamMas = (X[0:3+1,2].mean())\n",
    "tamMasStandart = (X[0:3+1,2].std())\n",
    "P_atmMas = sp.stats.norm.pdf(20.32, tamMas, tamMasStandart)\n",
    "P_atmMas_X_PMas = P_atmMas*PMas\n",
    "\n",
    "altura_fem = (X[4:4+3+1,0].mean())\n",
    "altura_femStandart = (X[4:4+3+1,0].std())\n",
    "\n",
    "P_altura_fem = sp.stats.norm.pdf(1.83, altura_fem, altura_femStandart)\n",
    "\n",
    "P_altura_fem_X_P_fem = P_altura_fem*P_fem\n",
    "\n",
    "peso_fem = (X[4:4+3+1,1].mean())\n",
    "peso_femStandart = (X[4:4+3+1,1].std())\n",
    "\n",
    "P_peso_fem = sp.stats.norm.pdf(58.97, peso_fem, peso_femStandart)\n",
    "\n",
    "P_peso_fem_X_P_fem = P_peso_fem*P_fem\n",
    "\n",
    "tam_fem = (X[4:4+3+1,2].mean())\n",
    "tam_femStandart = (X[4:4+3+1,2].std())\n",
    "\n",
    "P_atm_fem = sp.stats.norm.pdf(20.32, tam_fem, tam_femStandart)\n",
    "\n",
    "P_atm_fem_X_P_fem = P_atm_fem*P_fem\n",
    "\n",
    "P_alt = P_alturaMas_X_PMas + P_altura_fem_X_P_fem\n",
    "P_peso = P_pesoMas_X_PMas + P_peso_fem_X_P_fem\n",
    "P_tam = P_atmMas_X_PMas + P_atm_fem_X_P_fem\n",
    "\n",
    "print((P_alturaMas*P_pesoMas*P_atmMas*PMas)/(P_alt*P_peso*P_tam))\n",
    "\n",
    "print((P_altura_fem*P_peso_fem*P_atm_fem*P_fem)/(P_alt*P_peso*P_tam))"
   ]
  },
  {
   "cell_type": "code",
   "execution_count": null,
   "metadata": {},
   "outputs": [],
   "source": []
  }
 ],
 "metadata": {
  "kernelspec": {
   "display_name": "Python 3",
   "language": "python",
   "name": "python3"
  },
  "language_info": {
   "codemirror_mode": {
    "name": "ipython",
    "version": 3
   },
   "file_extension": ".py",
   "mimetype": "text/x-python",
   "name": "python",
   "nbconvert_exporter": "python",
   "pygments_lexer": "ipython3",
   "version": "3.7.6-final"
  }
 },
 "nbformat": 4,
 "nbformat_minor": 2
}