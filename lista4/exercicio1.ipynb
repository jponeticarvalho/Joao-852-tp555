{
 "cells": [
  {
   "cell_type": "code",
   "execution_count": null,
   "metadata": {},
   "outputs": [],
   "source": [
    "Teste A\n",
    "    P(+) = 95% = 0,95\n",
    "    P(+/Doença) = 90% = 0,9\n",
    "    P(+/Sem doença) = 10% = 0,1\n",
    "\n",
    "Teste B\n",
    "    P(+) = 90% = 0,9\n",
    "    P(+/Doença) = 95% = 0,95\n",
    "    P(+/Sem doença) = 5% = 0,05\n",
    "\n",
    "P(Doença) = 1% = 0,01\n",
    "\n",
    "[A]P(Doença/+) = (0,9*0,01)/0,95 = 0,009\n",
    "\n",
    "[B]P(Doença/+) = (0,95*0,01)/0,9 = 0,0105\n",
    "\n",
    "Probabilidade do Teste B ter um positivo verdadeiro é maior.\n"
   ]
  }
 ],
 "metadata": {
  "language_info": {
   "codemirror_mode": {
    "name": "ipython",
    "version": 2
   },
   "file_extension": ".py",
   "mimetype": "text/x-python",
   "name": "python",
   "nbconvert_exporter": "python",
   "pygments_lexer": "ipython2",
   "version": 2
  },
  "orig_nbformat": 2
 },
 "nbformat": 4,
 "nbformat_minor": 2
}