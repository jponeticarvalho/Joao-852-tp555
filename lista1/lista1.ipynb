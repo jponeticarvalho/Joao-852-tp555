{
 "cells": [
  {
   "cell_type": "markdown",
   "metadata": {},
   "source": [
    "1) Defina em suas próprias palavras:\n",
    "\n",
    "a. Inteligência.\n",
    "    \n",
    "    R: Inteligência é a capacidade de aprender, compreender e conhecer. E com isso conseguir resolver problemas.\n",
    "\n",
    "b. Inteligência artificial. \n",
    "    \n",
    "    R: Inteligência Artificial é um mecanismo ou um software capaz de solucionar problemas de forma similar ao ser humano.\n",
    "\n",
    "c. Aprendizado de máquina.\n",
    "    \n",
    "    R: Aprendizado de máquina é um subcampo da área de inteligência artificial que estuda a capacidade de uma maquina aprender a solucionar problemas de forma analitica e com uma base de dados pré definida."
   ]
  },
  {
   "cell_type": "markdown",
   "metadata": {},
   "source": [
    "2) Diz-se que um programa de computador aprende com a experiência E com relação a alguma tarefa T e alguma medida de desempenho D , se seu desempenho em T , medido por D , melhorar com a experiência E . Suponha que um algoritmo de aprendizado seja alimentado com muitos dados climáticos históricos, e aprenda aprever o tempo. Qual seria uma escolha razoável para D ?\n",
    "\n",
    "(a.) A probabilidade de prever corretamente o tempo de uma data futura.\n",
    "\n",
    "b. A tarefa de previsão do tempo.\n",
    "\n",
    "c. O processo do algoritmo que examina uma grande quantidade de dados climáticos históricos.\n",
    "\n",
    "d. Nenhum das alternativas anteriores."
   ]
  },
  {
   "cell_type": "markdown",
   "metadata": {},
   "source": [
    "3) Diz-se que um programa de computador aprende com a experiência E com relação a alguma tarefa T e alguma medida de desempenho D , se seu desempenho em T ,medido por D , melhorar com a experiência E. Suponha que você esteja trabalhando numa agência meteorológica e deseje treinar um algoritmo de aprendizado com dados climáticos históricos para que este preveja o tempo. Neste caso, o que seriam T , E ?\n",
    "    \n",
    "    R: T seria a classificação do tempo e E seria taxa de erro da rede neural."
   ]
  },
  {
   "cell_type": "markdown",
   "metadata": {},
   "source": [
    "4) Suponha que você esteja trabalhando em uma agência meteorológica com previsão do tempo, e que a agência faça uma das três previsões para o clima de cada dia: ensolarado , nublado ou chuvoso . Você deseja usar um algoritmo de aprendizadopara prever o tempo de amanhã. Você trataria essa tarefa como uma tarefa de classificação ou de regressão ? Justifique sua escolha.\n",
    "\n",
    "    R: Como classificação, pois há conjunto finito de valores."
   ]
  },
  {
   "cell_type": "markdown",
   "metadata": {},
   "source": [
    "5) Suponha que você esteja trabalhando em uma empresa de investimentos na previsãodo mercado de ações e gostaria de prever o preço de uma determinada ação amanhã(medido em reais). Você deseja usar um algoritmo de aprendizado para isso. Você trataria essa tarefa como uma tarefa de classificação de regressão ? Justifique sua escolha.\n",
    "\n",
    "    R: Regressão, pois há um conjunto infinito de valores."
   ]
  },
  {
   "cell_type": "markdown",
   "metadata": {},
   "source": [
    "6) Que tipo de algoritmo de aprendizado de máquina você usaria para permitir que um robô andasse em vários terrenos desconhecidos? \n",
    "Dica : o robô precisa, através desensores, entender o estado do terreno (buracos, paredes, subidas íngremes, etc.) e baseado neste estado executar ações (se mover para frente/trás, esquerda/direita) e dependendo do resultado dessas ações decidir quais são as ações corretas para queele ande sem problemas pelo terreno.\n",
    "\n",
    "    R: Aprendizado por reforço. Dessa forma o robô poderá analisar o estado do ambiente e definir a melhor estrategia para determinada situação, e irá realimenta seus dados com os resultados gerados."
   ]
  },
  {
   "cell_type": "markdown",
   "metadata": {},
   "source": [
    "7) Que tipo de algoritmo de aprendizado de máquina você usaria para segmentar clientes de uma grande empresa de e-commerce em vários grupos? \n",
    "Dica : você pode ter os grupos já definidos e treinar um modelo para alocar novos clientes a esses grupos ou querer descobrir diferentes tipos de grupos de clientes.\n",
    "\n",
    "        R: Aprendizado não-supervisionado, pois é usado para agrupar automaticamente os dados de entrada em categorias/classes."
   ]
  }
 ],
 "metadata": {
  "kernelspec": {
   "display_name": "Python 3",
   "language": "python",
   "name": "python3"
  },
  "language_info": {
   "codemirror_mode": {
    "name": "ipython",
    "version": 3
   },
   "file_extension": ".py",
   "mimetype": "text/x-python",
   "name": "python",
   "nbconvert_exporter": "python",
   "pygments_lexer": "ipython3",
   "version": "3.7.6"
  }
 },
 "nbformat": 4,
 "nbformat_minor": 4
}